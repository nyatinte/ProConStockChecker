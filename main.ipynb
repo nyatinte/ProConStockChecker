{
 "cells": [
  {
   "cell_type": "markdown",
   "metadata": {},
   "source": [
    "## Setting"
   ]
  },
  {
   "cell_type": "code",
   "execution_count": null,
   "metadata": {},
   "outputs": [],
   "source": [
    "from bs4 import BeautifulSoup\n",
    "import datetime\n",
    "from dotenv import load_dotenv\n",
    "import os\n",
    "import pathlib\n",
    "import requests\n",
    "import schedule\n",
    "import time\n",
    "from selenium import webdriver\n",
    "from selenium.webdriver.common.by import By\n",
    "from webdriver_manager.chrome import ChromeDriverManager"
   ]
  },
  {
   "cell_type": "code",
   "execution_count": null,
   "metadata": {},
   "outputs": [],
   "source": [
    "envpath = pathlib.Path('./.env')\n",
    "load_dotenv(envpath)"
   ]
  },
  {
   "cell_type": "code",
   "execution_count": 153,
   "metadata": {},
   "outputs": [],
   "source": [
    "# ヘッドレスモードで起動する\n",
    "options = webdriver.ChromeOptions()\n",
    "options.add_argument('--headless')\n",
    "\n",
    "# 誤ってdriverを複数起動しないようにする\n",
    "try:\n",
    "  driver.quit()\n",
    "except:\n",
    "  pass\n",
    "\n",
    "driver = webdriver.Chrome(ChromeDriverManager().install(), options=options)\n",
    "amazon_url = \"https://amzn.asia/d/134xdwa\"\n",
    "driver.get(amazon_url)\n",
    "time.sleep(3)"
   ]
  },
  {
   "cell_type": "markdown",
   "metadata": {},
   "source": [
    "## Main"
   ]
  },
  {
   "cell_type": "markdown",
   "metadata": {},
   "source": [
    "### Nintendo-shop"
   ]
  },
  {
   "cell_type": "code",
   "execution_count": null,
   "metadata": {},
   "outputs": [],
   "source": [
    "def get_soup(url):\n",
    "  \"\"\"\n",
    "  urlからBeautifulSoupオブジェクトを取得する\n",
    "  \n",
    "  Parameters\n",
    "  ----------\n",
    "  url : str\n",
    "    対象のURL\n",
    "      \n",
    "  Returns\n",
    "  -------\n",
    "  soup : BeautifulSoup\n",
    "    BeautifulSoupオブジェクト\n",
    "  \"\"\"\n",
    "  res = requests.get(url)\n",
    "  time.sleep(3)\n",
    "  return BeautifulSoup(res.text, 'html.parser')"
   ]
  },
  {
   "cell_type": "code",
   "execution_count": null,
   "metadata": {},
   "outputs": [],
   "source": [
    "def nintendo_stock_checker(url):\n",
    "  \"\"\"\n",
    "  urlから任天堂スイッチの在庫情報を取得する\n",
    "  \n",
    "  Parameters\n",
    "  ----------\n",
    "  url : str\n",
    "    対象のURL\n",
    "      \n",
    "  Returns\n",
    "  -------\n",
    "  bool : bool\n",
    "    在庫があるかどうか\n",
    "  \"\"\"\n",
    "  soup = get_soup(url)\n",
    "  item_name_elements = soup.select('.c-productList--item__name')\n",
    "  for item_name_element in item_name_elements:\n",
    "    if 'Nintendo Switch Proコントローラー' in item_name_element.text:\n",
    "      return True\n",
    "  return False"
   ]
  },
  {
   "cell_type": "markdown",
   "metadata": {},
   "source": [
    "### amazon"
   ]
  },
  {
   "cell_type": "code",
   "execution_count": null,
   "metadata": {},
   "outputs": [],
   "source": [
    "def get_price():\n",
    "    \"\"\"\n",
    "    現在閲覧しているamazonの商品の価格を取得する\n",
    "    \n",
    "    Returns\n",
    "    -------\n",
    "    price : int\n",
    "        商品の価格\n",
    "    \"\"\"\n",
    "    driver.refresh()\n",
    "    time.sleep(3)\n",
    "    price_elements = driver.find_elements(By.CSS_SELECTOR, '#buybox .a-price-whole')\n",
    "    if price_elements:\n",
    "        price_element = price_elements[0]\n",
    "        price = int(price_element.text.replace(',', ''))\n",
    "        return price\n",
    "    # 売ってなかったら高い値段を返す\n",
    "    return 1e+10"
   ]
  },
  {
   "cell_type": "markdown",
   "metadata": {},
   "source": [
    "### Line Notify"
   ]
  },
  {
   "cell_type": "code",
   "execution_count": null,
   "metadata": {},
   "outputs": [],
   "source": [
    "def send_line_notify(notification_message):\n",
    "    \"\"\"\n",
    "    LINEに通知する\n",
    "\n",
    "    環境変数 YOUR_LINE_NOTIFY_TOKEN にトークンを設定しておくこと\n",
    "\n",
    "    Parameters\n",
    "    ----------\n",
    "    notification_message : str\n",
    "        通知するメッセージ\n",
    "\n",
    "    Returns\n",
    "    -------\n",
    "    None\n",
    "    \"\"\"\n",
    "    line_notify_token = os.environ.get('YOUR_NOTIFY_TOKEN')\n",
    "    line_notify_api = 'https://notify-api.line.me/api/notify'\n",
    "    headers = {'Authorization': f'Bearer {line_notify_token}'}\n",
    "    data = {'message': f'message: {notification_message}'}\n",
    "    requests.post(line_notify_api, headers = headers, data = data)"
   ]
  },
  {
   "cell_type": "code",
   "execution_count": null,
   "metadata": {},
   "outputs": [],
   "source": [
    "def main():\n",
    "    global flag\n",
    "    nintendo_url = 'https://store-jp.nintendo.com/list/hardware-accessory/controller/?prefn1=hasInventory&prefv1=true'\n",
    "    if nintendo_stock_checker(nintendo_url):\n",
    "        send_line_notify(f'在庫あり\\nurl: {nintendo_url}')\n",
    "        flag = True\n",
    "        return True\n",
    "    elif get_price() < 8000:\n",
    "        send_line_notify('8000円以下になりました\\n: url: {amazon_url}')\n",
    "        flag = True\n",
    "        return True\n",
    "\n",
    "    print(f'{datetime.datetime.now}:処理を実行しました')"
   ]
  },
  {
   "cell_type": "code",
   "execution_count": null,
   "metadata": {},
   "outputs": [],
   "source": [
    "schedule.clear()\n",
    "schedule.every(3).minutes.do(main)"
   ]
  },
  {
   "cell_type": "code",
   "execution_count": null,
   "metadata": {},
   "outputs": [],
   "source": [
    "flag = False\n",
    "while True:\n",
    "  if flag:\n",
    "    break\n",
    "  schedule.run_pending()\n",
    "  time.sleep(50)"
   ]
  }
 ],
 "metadata": {
  "kernelspec": {
   "display_name": "Python 3.9.7 ('.venv': venv)",
   "language": "python",
   "name": "python3"
  },
  "language_info": {
   "codemirror_mode": {
    "name": "ipython",
    "version": 3
   },
   "file_extension": ".py",
   "mimetype": "text/x-python",
   "name": "python",
   "nbconvert_exporter": "python",
   "pygments_lexer": "ipython3",
   "version": "3.9.7"
  },
  "orig_nbformat": 4,
  "vscode": {
   "interpreter": {
    "hash": "3a6dd48e1f886daadea7f0f6a808bc03e68abc9da2e1a4e43dbbb5c5efb5aeba"
   }
  }
 },
 "nbformat": 4,
 "nbformat_minor": 2
}
