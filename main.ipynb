{
 "cells": [
  {
   "cell_type": "markdown",
   "metadata": {},
   "source": [
    "## Setting"
   ]
  },
  {
   "cell_type": "code",
   "execution_count": 35,
   "metadata": {},
   "outputs": [],
   "source": [
    "import os\n",
    "import requests\n",
    "from bs4 import BeautifulSoup\n",
    "import time\n",
    "from dotenv import load_dotenv\n",
    "import pathlib"
   ]
  },
  {
   "cell_type": "code",
   "execution_count": 39,
   "metadata": {},
   "outputs": [
    {
     "name": "stdout",
     "output_type": "stream",
     "text": [
      "LdTl3EjjJfZxr1UC4G23RldIqbbZFRLvfDib8xw8NIq\n"
     ]
    }
   ],
   "source": [
    "envpath = pathlib.Path('./.env')\n",
    "load_dotenv(envpath)"
   ]
  },
  {
   "cell_type": "markdown",
   "metadata": {},
   "source": [
    "## Main"
   ]
  },
  {
   "cell_type": "code",
   "execution_count": 27,
   "metadata": {},
   "outputs": [],
   "source": [
    "def get_soup(url):\n",
    "  \"\"\"\n",
    "  urlからBeautifulSoupオブジェクトを取得する\n",
    "  \n",
    "  Parameters\n",
    "  ----------\n",
    "  url : str\n",
    "    対象のURL\n",
    "      \n",
    "  Returns\n",
    "  -------\n",
    "  soup : BeautifulSoup\n",
    "    BeautifulSoupオブジェクト\n",
    "  \"\"\"\n",
    "  time.sleep(1)\n",
    "  res = requests.get(url)\n",
    "  return BeautifulSoup(res.text, 'html.parser')"
   ]
  },
  {
   "cell_type": "code",
   "execution_count": 49,
   "metadata": {},
   "outputs": [],
   "source": [
    "def nintendo_stock_checker(url):\n",
    "  \"\"\"\n",
    "  urlから任天堂スイッチの在庫情報を取得する\n",
    "  \n",
    "  Parameters\n",
    "  ----------\n",
    "  url : str\n",
    "    対象のURL\n",
    "      \n",
    "  Returns\n",
    "  -------\n",
    "  bool : bool\n",
    "    在庫があるかどうか\n",
    "  \"\"\"\n",
    "  soup = get_soup(url)\n",
    "  item_name_elements = soup.select('.c-productList--item__name')\n",
    "  for item_name_element in item_name_elements:\n",
    "    if 'Nintendo Switch Proコントローラー' in item_name_element.text:\n",
    "      return True\n",
    "  return False"
   ]
  },
  {
   "cell_type": "code",
   "execution_count": 50,
   "metadata": {},
   "outputs": [],
   "source": [
    "def main():\n",
    "    url = 'https://store-jp.nintendo.com/list/hardware-accessory/controller/?prefn1=hasInventory&prefv1=true'\n",
    "    send_text = f'在庫あり\\nurl: {url}'\n",
    "    if nintendo_stock_checker(url):\n",
    "        send_line_notify(send_text)\n",
    "\n",
    "def send_line_notify(notification_message):\n",
    "    \"\"\"\n",
    "    LINEに通知する\n",
    "\n",
    "    環境変数 YOUR_LINE_NOTIFY_TOKEN にトークンを設定しておくこと\n",
    "\n",
    "    Parameters\n",
    "    ----------\n",
    "    notification_message : str\n",
    "        通知するメッセージ\n",
    "\n",
    "    Returns\n",
    "    -------\n",
    "    None\n",
    "    \"\"\"\n",
    "    line_notify_token = os.environ.get('YOUR_NOTIFY_TOKEN')\n",
    "    line_notify_api = 'https://notify-api.line.me/api/notify'\n",
    "    headers = {'Authorization': f'Bearer {line_notify_token}'}\n",
    "    data = {'message': f'message: {notification_message}'}\n",
    "    requests.post(line_notify_api, headers = headers, data = data)"
   ]
  },
  {
   "cell_type": "code",
   "execution_count": 51,
   "metadata": {},
   "outputs": [
    {
     "name": "stdout",
     "output_type": "stream",
     "text": [
      "<class 'bs4.element.Tag'>\n",
      "<class 'bs4.element.Tag'>\n",
      "<class 'bs4.element.Tag'>\n",
      "<class 'bs4.element.Tag'>\n",
      "<class 'bs4.element.Tag'>\n",
      "<class 'bs4.element.Tag'>\n",
      "<class 'bs4.element.Tag'>\n",
      "<class 'bs4.element.Tag'>\n",
      "<class 'bs4.element.Tag'>\n",
      "<class 'bs4.element.Tag'>\n",
      "<class 'bs4.element.Tag'>\n",
      "<class 'bs4.element.Tag'>\n"
     ]
    }
   ],
   "source": [
    "if __name__ == \"__main__\":\n",
    "    main()"
   ]
  },
  {
   "cell_type": "code",
   "execution_count": null,
   "metadata": {},
   "outputs": [],
   "source": []
  }
 ],
 "metadata": {
  "kernelspec": {
   "display_name": "Python 3.9.7 ('.venv': venv)",
   "language": "python",
   "name": "python3"
  },
  "language_info": {
   "codemirror_mode": {
    "name": "ipython",
    "version": 3
   },
   "file_extension": ".py",
   "mimetype": "text/x-python",
   "name": "python",
   "nbconvert_exporter": "python",
   "pygments_lexer": "ipython3",
   "version": "3.9.7"
  },
  "orig_nbformat": 4,
  "vscode": {
   "interpreter": {
    "hash": "3a6dd48e1f886daadea7f0f6a808bc03e68abc9da2e1a4e43dbbb5c5efb5aeba"
   }
  }
 },
 "nbformat": 4,
 "nbformat_minor": 2
}
