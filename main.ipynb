{
 "cells": [
  {
   "cell_type": "markdown",
   "metadata": {},
   "source": [
    "## Setting"
   ]
  },
  {
   "cell_type": "code",
   "execution_count": 75,
   "metadata": {},
   "outputs": [],
   "source": [
    "from bs4 import BeautifulSoup\n",
    "from dotenv import load_dotenv\n",
    "import os\n",
    "import pathlib\n",
    "import requests\n",
    "import schedule\n",
    "import time"
   ]
  },
  {
   "cell_type": "code",
   "execution_count": 76,
   "metadata": {},
   "outputs": [
    {
     "data": {
      "text/plain": [
       "True"
      ]
     },
     "execution_count": 76,
     "metadata": {},
     "output_type": "execute_result"
    }
   ],
   "source": [
    "envpath = pathlib.Path('./.env')\n",
    "load_dotenv(envpath)"
   ]
  },
  {
   "cell_type": "markdown",
   "metadata": {},
   "source": [
    "## Main"
   ]
  },
  {
   "cell_type": "code",
   "execution_count": 77,
   "metadata": {},
   "outputs": [],
   "source": [
    "def get_soup(url):\n",
    "  \"\"\"\n",
    "  urlからBeautifulSoupオブジェクトを取得する\n",
    "  \n",
    "  Parameters\n",
    "  ----------\n",
    "  url : str\n",
    "    対象のURL\n",
    "      \n",
    "  Returns\n",
    "  -------\n",
    "  soup : BeautifulSoup\n",
    "    BeautifulSoupオブジェクト\n",
    "  \"\"\"\n",
    "  time.sleep(1)\n",
    "  res = requests.get(url)\n",
    "  return BeautifulSoup(res.text, 'html.parser')"
   ]
  },
  {
   "cell_type": "code",
   "execution_count": 78,
   "metadata": {},
   "outputs": [],
   "source": [
    "def nintendo_stock_checker(url):\n",
    "  \"\"\"\n",
    "  urlから任天堂スイッチの在庫情報を取得する\n",
    "  \n",
    "  Parameters\n",
    "  ----------\n",
    "  url : str\n",
    "    対象のURL\n",
    "      \n",
    "  Returns\n",
    "  -------\n",
    "  bool : bool\n",
    "    在庫があるかどうか\n",
    "  \"\"\"\n",
    "  soup = get_soup(url)\n",
    "  item_name_elements = soup.select('.c-productList--item__name')\n",
    "  for item_name_element in item_name_elements:\n",
    "    if 'Nintendo Switch Proコントローラー' in item_name_element.text:\n",
    "      return True\n",
    "  return False"
   ]
  },
  {
   "cell_type": "code",
   "execution_count": 79,
   "metadata": {},
   "outputs": [],
   "source": [
    "def send_line_notify(notification_message):\n",
    "    \"\"\"\n",
    "    LINEに通知する\n",
    "\n",
    "    環境変数 YOUR_LINE_NOTIFY_TOKEN にトークンを設定しておくこと\n",
    "\n",
    "    Parameters\n",
    "    ----------\n",
    "    notification_message : str\n",
    "        通知するメッセージ\n",
    "\n",
    "    Returns\n",
    "    -------\n",
    "    None\n",
    "    \"\"\"\n",
    "    line_notify_token = os.environ.get('YOUR_NOTIFY_TOKEN')\n",
    "    line_notify_api = 'https://notify-api.line.me/api/notify'\n",
    "    headers = {'Authorization': f'Bearer {line_notify_token}'}\n",
    "    data = {'message': f'message: {notification_message}'}\n",
    "    requests.post(line_notify_api, headers = headers, data = data)"
   ]
  },
  {
   "cell_type": "code",
   "execution_count": 80,
   "metadata": {},
   "outputs": [],
   "source": [
    "def main():\n",
    "    global flag\n",
    "    url = 'https://store-jp.nintendo.com/list/hardware-accessory/controller/?prefn1=hasInventory&prefv1=true'\n",
    "    send_text = f'在庫あり\\nurl: {url}'\n",
    "    if nintendo_stock_checker(url):\n",
    "        send_line_notify(send_text)\n",
    "        flag = True"
   ]
  },
  {
   "cell_type": "code",
   "execution_count": 82,
   "metadata": {},
   "outputs": [
    {
     "data": {
      "text/plain": [
       "Every 3 minutes do main() (last run: [never], next run: 2022-09-18 22:50:55)"
      ]
     },
     "execution_count": 82,
     "metadata": {},
     "output_type": "execute_result"
    }
   ],
   "source": [
    "schedule.clear()\n",
    "schedule.every(3).minutes.do(main)"
   ]
  },
  {
   "cell_type": "code",
   "execution_count": null,
   "metadata": {},
   "outputs": [
    {
     "name": "stdout",
     "output_type": "stream",
     "text": [
      "hoge\n",
      "hoge\n"
     ]
    },
    {
     "ename": "KeyboardInterrupt",
     "evalue": "",
     "output_type": "error",
     "traceback": [
      "\u001b[0;31m---------------------------------------------------------------------------\u001b[0m",
      "\u001b[0;31mKeyboardInterrupt\u001b[0m                         Traceback (most recent call last)",
      "Cell \u001b[0;32mIn [74], line 2\u001b[0m\n\u001b[1;32m      1\u001b[0m \u001b[38;5;28;01mwhile\u001b[39;00m \u001b[38;5;28;01mTrue\u001b[39;00m:\n\u001b[0;32m----> 2\u001b[0m   \u001b[43mschedule\u001b[49m\u001b[38;5;241;43m.\u001b[39;49m\u001b[43mrun_pending\u001b[49m\u001b[43m(\u001b[49m\u001b[43m)\u001b[49m\n",
      "File \u001b[0;32m~/my_programs/ProContorolerStockChecker/.venv/lib/python3.9/site-packages/schedule/__init__.py:780\u001b[0m, in \u001b[0;36mrun_pending\u001b[0;34m()\u001b[0m\n\u001b[1;32m    776\u001b[0m \u001b[39mdef\u001b[39;00m \u001b[39mrun_pending\u001b[39m() \u001b[39m-\u001b[39m\u001b[39m>\u001b[39m \u001b[39mNone\u001b[39;00m:\n\u001b[1;32m    777\u001b[0m     \u001b[39m\"\"\"Calls :meth:`run_pending <Scheduler.run_pending>` on the\u001b[39;00m\n\u001b[1;32m    778\u001b[0m \u001b[39m    :data:`default scheduler instance <default_scheduler>`.\u001b[39;00m\n\u001b[1;32m    779\u001b[0m \u001b[39m    \"\"\"\u001b[39;00m\n\u001b[0;32m--> 780\u001b[0m     default_scheduler\u001b[39m.\u001b[39;49mrun_pending()\n",
      "File \u001b[0;32m~/my_programs/ProContorolerStockChecker/.venv/lib/python3.9/site-packages/schedule/__init__.py:99\u001b[0m, in \u001b[0;36mScheduler.run_pending\u001b[0;34m(self)\u001b[0m\n\u001b[1;32m     89\u001b[0m \u001b[39m\"\"\"\u001b[39;00m\n\u001b[1;32m     90\u001b[0m \u001b[39mRun all jobs that are scheduled to run.\u001b[39;00m\n\u001b[1;32m     91\u001b[0m \n\u001b[0;32m   (...)\u001b[0m\n\u001b[1;32m     96\u001b[0m \u001b[39mbetween but only once.\u001b[39;00m\n\u001b[1;32m     97\u001b[0m \u001b[39m\"\"\"\u001b[39;00m\n\u001b[1;32m     98\u001b[0m runnable_jobs \u001b[39m=\u001b[39m (job \u001b[39mfor\u001b[39;00m job \u001b[39min\u001b[39;00m \u001b[39mself\u001b[39m\u001b[39m.\u001b[39mjobs \u001b[39mif\u001b[39;00m job\u001b[39m.\u001b[39mshould_run)\n\u001b[0;32m---> 99\u001b[0m \u001b[39mfor\u001b[39;00m job \u001b[39min\u001b[39;00m \u001b[39msorted\u001b[39;49m(runnable_jobs):\n\u001b[1;32m    100\u001b[0m     \u001b[39mself\u001b[39m\u001b[39m.\u001b[39m_run_job(job)\n",
      "File \u001b[0;32m~/my_programs/ProContorolerStockChecker/.venv/lib/python3.9/site-packages/schedule/__init__.py:98\u001b[0m, in \u001b[0;36m<genexpr>\u001b[0;34m(.0)\u001b[0m\n\u001b[1;32m     88\u001b[0m \u001b[39mdef\u001b[39;00m \u001b[39mrun_pending\u001b[39m(\u001b[39mself\u001b[39m) \u001b[39m-\u001b[39m\u001b[39m>\u001b[39m \u001b[39mNone\u001b[39;00m:\n\u001b[1;32m     89\u001b[0m     \u001b[39m\"\"\"\u001b[39;00m\n\u001b[1;32m     90\u001b[0m \u001b[39m    Run all jobs that are scheduled to run.\u001b[39;00m\n\u001b[1;32m     91\u001b[0m \n\u001b[0;32m   (...)\u001b[0m\n\u001b[1;32m     96\u001b[0m \u001b[39m    between but only once.\u001b[39;00m\n\u001b[1;32m     97\u001b[0m \u001b[39m    \"\"\"\u001b[39;00m\n\u001b[0;32m---> 98\u001b[0m     runnable_jobs \u001b[39m=\u001b[39m (job \u001b[39mfor\u001b[39;00m job \u001b[39min\u001b[39;00m \u001b[39mself\u001b[39m\u001b[39m.\u001b[39mjobs \u001b[39mif\u001b[39;00m job\u001b[39m.\u001b[39;49mshould_run)\n\u001b[1;32m     99\u001b[0m     \u001b[39mfor\u001b[39;00m job \u001b[39min\u001b[39;00m \u001b[39msorted\u001b[39m(runnable_jobs):\n\u001b[1;32m    100\u001b[0m         \u001b[39mself\u001b[39m\u001b[39m.\u001b[39m_run_job(job)\n",
      "File \u001b[0;32m~/my_programs/ProContorolerStockChecker/.venv/lib/python3.9/site-packages/schedule/__init__.py:642\u001b[0m, in \u001b[0;36mJob.should_run\u001b[0;34m(self)\u001b[0m\n\u001b[1;32m    638\u001b[0m \u001b[39m\"\"\"\u001b[39;00m\n\u001b[1;32m    639\u001b[0m \u001b[39m:return: ``True`` if the job should be run now.\u001b[39;00m\n\u001b[1;32m    640\u001b[0m \u001b[39m\"\"\"\u001b[39;00m\n\u001b[1;32m    641\u001b[0m \u001b[39massert\u001b[39;00m \u001b[39mself\u001b[39m\u001b[39m.\u001b[39mnext_run \u001b[39mis\u001b[39;00m \u001b[39mnot\u001b[39;00m \u001b[39mNone\u001b[39;00m, \u001b[39m\"\u001b[39m\u001b[39mmust run _schedule_next_run before\u001b[39m\u001b[39m\"\u001b[39m\n\u001b[0;32m--> 642\u001b[0m \u001b[39mreturn\u001b[39;00m datetime\u001b[39m.\u001b[39;49mdatetime\u001b[39m.\u001b[39;49mnow() \u001b[39m>\u001b[39m\u001b[39m=\u001b[39m \u001b[39mself\u001b[39m\u001b[39m.\u001b[39mnext_run\n",
      "\u001b[0;31mKeyboardInterrupt\u001b[0m: "
     ]
    }
   ],
   "source": [
    "flag = False\n",
    "while True:\n",
    "  if flag:\n",
    "    break\n",
    "  schedule.run_pending()\n",
    "  time.sleep(50)"
   ]
  },
  {
   "cell_type": "code",
   "execution_count": null,
   "metadata": {},
   "outputs": [],
   "source": []
  }
 ],
 "metadata": {
  "kernelspec": {
   "display_name": "Python 3.9.7 ('.venv': venv)",
   "language": "python",
   "name": "python3"
  },
  "language_info": {
   "codemirror_mode": {
    "name": "ipython",
    "version": 3
   },
   "file_extension": ".py",
   "mimetype": "text/x-python",
   "name": "python",
   "nbconvert_exporter": "python",
   "pygments_lexer": "ipython3",
   "version": "3.9.7"
  },
  "orig_nbformat": 4,
  "vscode": {
   "interpreter": {
    "hash": "3a6dd48e1f886daadea7f0f6a808bc03e68abc9da2e1a4e43dbbb5c5efb5aeba"
   }
  }
 },
 "nbformat": 4,
 "nbformat_minor": 2
}
