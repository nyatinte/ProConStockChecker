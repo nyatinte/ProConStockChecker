{
 "cells": [
  {
   "cell_type": "code",
   "execution_count": 1,
   "metadata": {},
   "outputs": [],
   "source": [
    "import os\n",
    "import requests\n",
    "from bs4 import BeautifulSoup\n",
    "import time"
   ]
  },
  {
   "cell_type": "code",
   "execution_count": 2,
   "metadata": {},
   "outputs": [],
   "source": [
    "urls = [\n",
    "  {'url':'https://www.yodobashi.com/product/100000001007205381/', 'name':'yodobashi'},\n",
    "  {'url':'https://www.yodobashi.com/product/100000001003431572/', 'name':'yodobashi'},\n",
    "  {'url':'https://ymall.jp/kaden/5712100017/', 'name':'yamada'},\n",
    "  {'url': 'https://ymall.jp/kaden/1519200011/', 'name':'yamada'},\n",
    "]"
   ]
  },
  {
   "cell_type": "code",
   "execution_count": 3,
   "metadata": {},
   "outputs": [],
   "source": [
    "def get_soup(url):\n",
    "  \"\"\"\n",
    "  urlからBeautifulSoupオブジェクトを取得する\n",
    "  \n",
    "  Parameters\n",
    "  ----------\n",
    "  url : str\n",
    "    対象のURL\n",
    "      \n",
    "  Returns\n",
    "  -------\n",
    "  soup : BeautifulSoup\n",
    "    BeautifulSoupオブジェクト\n",
    "  \"\"\"\n",
    "  time.sleep(1)\n",
    "  res = requests.get(url)\n",
    "  return BeautifulSoup(res.text, 'html.parser')"
   ]
  },
  {
   "cell_type": "code",
   "execution_count": 4,
   "metadata": {},
   "outputs": [],
   "source": [
    "def yodobashi_crowl(url):\n",
    "  \"\"\"\n",
    "  ヨドバシのクローリングを行う\n",
    "  \"\"\"\n",
    "  soup = get_soup(url)\n",
    "  print(soup.select('.buyBoxMain'))\n",
    "  "
   ]
  },
  {
   "cell_type": "code",
   "execution_count": 5,
   "metadata": {},
   "outputs": [],
   "source": [
    "yodobashi_crowl(urls[0]['url'])"
   ]
  },
  {
   "cell_type": "code",
   "execution_count": 15,
   "metadata": {},
   "outputs": [],
   "source": [
    "def main():\n",
    "    send_line_notify('てすとてすと')\n",
    "\n",
    "def send_line_notify(notification_message):\n",
    "    \"\"\"\n",
    "    LINEに通知する\n",
    "\n",
    "    環境変数 YOUR_LINE_NOTIFY_TOKEN にトークンを設定しておくこと\n",
    "\n",
    "    Parameters\n",
    "    ----------\n",
    "    notification_message : str\n",
    "        通知するメッセージ\n",
    "\n",
    "    Returns\n",
    "    -------\n",
    "    None\n",
    "    \"\"\"\n",
    "    line_notify_token = os.environ['YOUR_NOTIFY_TOKEN']\n",
    "    line_notify_api = 'https://notify-api.line.me/api/notify'\n",
    "    headers = {'Authorization': f'Bearer {line_notify_token}'}\n",
    "    data = {'message': f'message: {notification_message}'}\n",
    "    requests.post(line_notify_api, headers = headers, data = data)\n",
    "\n",
    "if __name__ == \"__main__\":\n",
    "    main()"
   ]
  }
 ],
 "metadata": {
  "kernelspec": {
   "display_name": "Python 3.9.7 ('.venv': venv)",
   "language": "python",
   "name": "python3"
  },
  "language_info": {
   "codemirror_mode": {
    "name": "ipython",
    "version": 3
   },
   "file_extension": ".py",
   "mimetype": "text/x-python",
   "name": "python",
   "nbconvert_exporter": "python",
   "pygments_lexer": "ipython3",
   "version": "3.9.7"
  },
  "orig_nbformat": 4,
  "vscode": {
   "interpreter": {
    "hash": "3a6dd48e1f886daadea7f0f6a808bc03e68abc9da2e1a4e43dbbb5c5efb5aeba"
   }
  }
 },
 "nbformat": 4,
 "nbformat_minor": 2
}
